{
 "cells": [
  {
   "cell_type": "code",
   "execution_count": 480,
   "metadata": {},
   "outputs": [],
   "source": [
    "import pyodbc\n",
    "import pandas as pd\n",
    "# Some other example server values are\n",
    "# server = 'localhost\\sqlexpress' # for a named instance\n",
    "# server = 'myserver,port' # to specify an alternate port\n",
    "server = 'MEM0BISQL01T' \n",
    "database = 'db_TGEDW_EDH' \n",
    "username = 'svcbit' \n",
    "password = '3g=ZTU#Cg$pM5+'  \n",
    "cnxn = pyodbc.connect('DRIVER={SQL Server};SERVER='+server+';DATABASE='+database+';UID='+username+';PWD='+ password)\n",
    "cursor = cnxn.cursor()\n"
   ]
  },
  {
   "cell_type": "code",
   "execution_count": 481,
   "metadata": {},
   "outputs": [],
   "source": [
    "import numpy as np"
   ]
  },
  {
   "cell_type": "code",
   "execution_count": 482,
   "metadata": {},
   "outputs": [],
   "source": [
    "query = \"SELECT * FROM information_schema.tables\"\n",
    "df = pd.read_sql(query, cnxn)"
   ]
  },
  {
   "cell_type": "code",
   "execution_count": 483,
   "metadata": {
    "scrolled": true
   },
   "outputs": [
    {
     "data": {
      "text/html": [
       "<div>\n",
       "<style scoped>\n",
       "    .dataframe tbody tr th:only-of-type {\n",
       "        vertical-align: middle;\n",
       "    }\n",
       "\n",
       "    .dataframe tbody tr th {\n",
       "        vertical-align: top;\n",
       "    }\n",
       "\n",
       "    .dataframe thead th {\n",
       "        text-align: right;\n",
       "    }\n",
       "</style>\n",
       "<table border=\"1\" class=\"dataframe\">\n",
       "  <thead>\n",
       "    <tr style=\"text-align: right;\">\n",
       "      <th></th>\n",
       "      <th>TABLE_CATALOG</th>\n",
       "      <th>TABLE_SCHEMA</th>\n",
       "      <th>TABLE_NAME</th>\n",
       "      <th>TABLE_TYPE</th>\n",
       "    </tr>\n",
       "  </thead>\n",
       "  <tbody>\n",
       "    <tr>\n",
       "      <th>0</th>\n",
       "      <td>db_TGEDW_EDH</td>\n",
       "      <td>dbo</td>\n",
       "      <td>tbl_PYADR</td>\n",
       "      <td>BASE TABLE</td>\n",
       "    </tr>\n",
       "    <tr>\n",
       "      <th>1</th>\n",
       "      <td>db_TGEDW_EDH</td>\n",
       "      <td>dbo</td>\n",
       "      <td>tbl_PYADRAB</td>\n",
       "      <td>BASE TABLE</td>\n",
       "    </tr>\n",
       "    <tr>\n",
       "      <th>2</th>\n",
       "      <td>db_TGEDW_EDH</td>\n",
       "      <td>dbo</td>\n",
       "      <td>tbl_PYADRJ01</td>\n",
       "      <td>BASE TABLE</td>\n",
       "    </tr>\n",
       "    <tr>\n",
       "      <th>3</th>\n",
       "      <td>db_TGEDW_EDH</td>\n",
       "      <td>dbo</td>\n",
       "      <td>tbl_PYADRJ02</td>\n",
       "      <td>BASE TABLE</td>\n",
       "    </tr>\n",
       "    <tr>\n",
       "      <th>4</th>\n",
       "      <td>db_TGEDW_EDH</td>\n",
       "      <td>dbo</td>\n",
       "      <td>tbl_PYADRJ03</td>\n",
       "      <td>BASE TABLE</td>\n",
       "    </tr>\n",
       "    <tr>\n",
       "      <th>...</th>\n",
       "      <td>...</td>\n",
       "      <td>...</td>\n",
       "      <td>...</td>\n",
       "      <td>...</td>\n",
       "    </tr>\n",
       "    <tr>\n",
       "      <th>95</th>\n",
       "      <td>db_TGEDW_EDH</td>\n",
       "      <td>dbo</td>\n",
       "      <td>tbl_ITFMB</td>\n",
       "      <td>BASE TABLE</td>\n",
       "    </tr>\n",
       "    <tr>\n",
       "      <th>96</th>\n",
       "      <td>db_TGEDW_EDH</td>\n",
       "      <td>dbo</td>\n",
       "      <td>tbl_ITFNT</td>\n",
       "      <td>BASE TABLE</td>\n",
       "    </tr>\n",
       "    <tr>\n",
       "      <th>97</th>\n",
       "      <td>db_TGEDW_EDH</td>\n",
       "      <td>dbo</td>\n",
       "      <td>tbl_SLPRP</td>\n",
       "      <td>BASE TABLE</td>\n",
       "    </tr>\n",
       "    <tr>\n",
       "      <th>98</th>\n",
       "      <td>db_TGEDW_EDH</td>\n",
       "      <td>dbo</td>\n",
       "      <td>tbl_ITFPD</td>\n",
       "      <td>BASE TABLE</td>\n",
       "    </tr>\n",
       "    <tr>\n",
       "      <th>99</th>\n",
       "      <td>db_TGEDW_EDH</td>\n",
       "      <td>dbo</td>\n",
       "      <td>tbl_PRLBR</td>\n",
       "      <td>BASE TABLE</td>\n",
       "    </tr>\n",
       "  </tbody>\n",
       "</table>\n",
       "<p>100 rows × 4 columns</p>\n",
       "</div>"
      ],
      "text/plain": [
       "   TABLE_CATALOG TABLE_SCHEMA    TABLE_NAME  TABLE_TYPE\n",
       "0   db_TGEDW_EDH          dbo     tbl_PYADR  BASE TABLE\n",
       "1   db_TGEDW_EDH          dbo   tbl_PYADRAB  BASE TABLE\n",
       "2   db_TGEDW_EDH          dbo  tbl_PYADRJ01  BASE TABLE\n",
       "3   db_TGEDW_EDH          dbo  tbl_PYADRJ02  BASE TABLE\n",
       "4   db_TGEDW_EDH          dbo  tbl_PYADRJ03  BASE TABLE\n",
       "..           ...          ...           ...         ...\n",
       "95  db_TGEDW_EDH          dbo     tbl_ITFMB  BASE TABLE\n",
       "96  db_TGEDW_EDH          dbo     tbl_ITFNT  BASE TABLE\n",
       "97  db_TGEDW_EDH          dbo     tbl_SLPRP  BASE TABLE\n",
       "98  db_TGEDW_EDH          dbo     tbl_ITFPD  BASE TABLE\n",
       "99  db_TGEDW_EDH          dbo     tbl_PRLBR  BASE TABLE\n",
       "\n",
       "[100 rows x 4 columns]"
      ]
     },
     "execution_count": 483,
     "metadata": {},
     "output_type": "execute_result"
    }
   ],
   "source": [
    "df.head(100)"
   ]
  },
  {
   "cell_type": "code",
   "execution_count": 517,
   "metadata": {},
   "outputs": [],
   "source": [
    "def listSqlTables():\n",
    "    global tables\n",
    "    tables=[]\n",
    "    for data in df['TABLE_NAME']:\n",
    "        tables.append(data)\n",
    "    return tables"
   ]
  },
  {
   "cell_type": "code",
   "execution_count": 503,
   "metadata": {},
   "outputs": [],
   "source": [
    "tbl_edh=['tbl_PRLBR','tbl_ITFPD','tbl_SLPRP','tbl_ITFMB', 'tbl_ITFNT']"
   ]
  },
  {
   "cell_type": "code",
   "execution_count": 504,
   "metadata": {},
   "outputs": [],
   "source": [
    "final_tbl= set(tbl_edh).intersection(listSqlTables())"
   ]
  },
  {
   "cell_type": "code",
   "execution_count": 505,
   "metadata": {},
   "outputs": [],
   "source": [
    "final_tbl=list(final_tbl)"
   ]
  },
  {
   "cell_type": "code",
   "execution_count": 506,
   "metadata": {},
   "outputs": [
    {
     "data": {
      "text/plain": [
       "['tbl_SLPRP', 'tbl_ITFMB', 'tbl_ITFPD', 'tbl_PRLBR', 'tbl_ITFNT']"
      ]
     },
     "execution_count": 506,
     "metadata": {},
     "output_type": "execute_result"
    }
   ],
   "source": [
    "final_tbl"
   ]
  },
  {
   "cell_type": "code",
   "execution_count": 546,
   "metadata": {},
   "outputs": [],
   "source": [
    "def saveDf():\n",
    "    global query_tbl\n",
    "    global df_sql\n",
    "    for data in final_tbl:\n",
    "        query_tbl = \"SELECT * FROM\"+' '+str(data)\n",
    "        df_sql=pd.read_sql(query_tbl, cnxn)\n",
    "        cols=[]\n",
    "        for col in df_sql.columns: \n",
    "            cols.append(col)\n",
    "            clean_columns=', '.join(cols)\n",
    "        print(clean_columns)\n",
    "        #np.savetxt('c:/Users/bkarki/Documents/ETL_PIPE_CARET_PIPE/df_{}'.format(str(data))+'.txt', df_sql, delimiter = \"|^|\", header=clean_columns,fmt=\"%s\",comments='')\n",
    "        np.savetxt('c:/Users/bkarki/Documents/ETL_PIPE_CARET_PIPE/df.txt', df_sql, header=clean_columns,fmt=\"%s\",comments='')\n",
    "        df1=pd.read_csv('c:/Users/bkarki/Documents/ETL_PIPE_CARET_PIPE/df.txt',error_bad_lines=False,sep=',',header=None,engine='python')\n",
    "        np.savetxt('c:/Users/bkarki/Documents/ETL_PIPE_CARET_PIPE/df_{}'.format(str(data))+'.txt', df1, delimiter = \"|^|\",fmt=\"%s\")\n",
    "        \n",
    "        \n",
    "        \n",
    "        \n",
    "        "
   ]
  },
  {
   "cell_type": "code",
   "execution_count": 547,
   "metadata": {
    "scrolled": true
   },
   "outputs": [
    {
     "name": "stdout",
     "output_type": "stream",
     "text": [
      "ACTID, PRPSTHCOD, PRPLDSCOD, PRPANNAMT, PRPREGAMT, PRPEXIAMT, PRPRNLAMT, PRPSPCAMT, PRPQUACOD, ACTPACTID, ACTTACTID, ACTRACTID, ACTFUTCOD, ACTVAR1, ACTVAR2, ACTFQUCOD, ACTREF, ACTPTYIDL, ACTPAASID, ACTPRYSID, ACTSITCOD, ACTSICCOD, ACTICGCOD, ACTITMCOD, ACTIQTY, ACTIQTUCD, ACTIAMT, ACTICRNCD, ACTITMVA1, ACTSVMVA1, AC#STS, AC#DTE, AC#CRSCOD, AC#CDTE, ACTPTYIDO, ACTPTYV9O, ACTPTYNUO, ACTBUNCDO, ACTTRYCDO, ACTEMPNUO, ACTBUNCDC, ACTTRYCDC, ACTEMPNUC, ACTFDTE, ACTFTIM, ACTTDTE, ACTTTIM, ACTDTE, ACTGDUR, ACTGDUUCD, ACTDUR, ACTDUUCOD, AC#APVCOD, AC#EMPNUV, AC#VDTE, AC#BFDTES, AC#BFTIMS, AC#BTDTES, AC#BTTIMS, AC#SDTE, AC#IVAR1, AC#ISSNUM, AC#IDTE, AC#SRNCOD, AC#SRNNUM, AC#KDTE, AC#PQTY, AC#PAMT, AC#PCTC, AC#PDTE, XXDATE, XXTIMESTAMP, XXFUNC, XXPROC, XXTIME, XXUSER, UPDATE_IDENT, InsertDateTime, InsertUserId, LastChangeDateTime, LastChangeUserId\n",
      "BUNCOD, FMBFDTE, FMBFDTE_DT, FMBTDTE, FMBTDTE_DT, FMBIND, XXDATE, XXDATE_DT, XXTIMESTAMP, XXTIME, XXTIME_TM, XXFUNC, XXUSER, UPDATE_IDENT, InsertDateTime, InsertUserID, LastChangeDateTime, LastChangeUserID, RecordChecksum\n",
      "FILNUM, PDBORD, PDBPRDNUM, FPDPAMT, FPDAPAMT, FPDUOM, FPDAUOM, FPDAIC01, FPDAIC02, FPDAIC03, FPDAIC04, FPDAIC05, FPDAIC06, FPDING01, FPDING02, FPDING03, FPDING04, FPDING05, FPDING06, XXDATE, XXDATE_DT, XXTIMESTAMP, XXTIME, XXTIME_TM, XXFUNC, XXUSER, UPDATE_IDENT, InsertDateTime, InsertUserID, LastChangeDateTime, LastChangeUserID, RecordChecksum\n",
      "LBRCOD, LBRDSC, LBRICGCOD, LBRPRIND, LBROTCOD, LBRHRSW, XXDATE, XXDATE_DT, XXTIMESTAMP, XXFUNC, XXPROC, XXTIME, XXTIME_TM, XXUSER, UPDATE_IDENT, InsertDateTime, InsertUserID, LastChangeDateTime, LastChangeUserID\n",
      "FNTCOD, FNTDSC, FNTDSC2, XXDATE, XXDATE_DT, XXTIMESTAMP, XXTIME, XXTIME_TM, XXUSER, XXFUNC, UPDATE_IDENT, InsertDateTime, InsertUserID, LastChangeDateTime, LastChangeUserID, RecordChecksum\n"
     ]
    }
   ],
   "source": [
    "saveDf()\n"
   ]
  },
  {
   "cell_type": "code",
   "execution_count": 575,
   "metadata": {},
   "outputs": [],
   "source": [
    "def import_Transformed_Df():\n",
    "    global datae\n",
    "    datae=[]\n",
    "    global arr\n",
    "    arr = os.listdir('c:/Users/bkarki/Documents/ETL_PIPE_CARET_PIPE/')\n",
    "    print(arr)\n",
    "#     for i in arr:\n",
    "#         data.append(i)\n",
    "        \n",
    "#         df=pd.read_csv(data,header=None)\n",
    "#         np.savetxt('_{}'.format(str(data)), df, delimiter = \"|^|\",fmt=\"%s\")"
   ]
  },
  {
   "cell_type": "code",
   "execution_count": 639,
   "metadata": {},
   "outputs": [],
   "source": [
    "def testTgt():\n",
    "    arr = os.listdir('c:/Users/bkarki/Documents/ETL_PIPE_CARET_PIPE/')\n",
    "    new_arr=[]\n",
    "    for data in arr:\n",
    "#         print(data)\n",
    "        if data !='df.txt':\n",
    "            new_arr.append(data)\n",
    "    for data in new_arr:\n",
    "        df=pd.read_csv('c:/Users/bkarki/Documents/ETL_PIPE_CARET_PIPE/'+data, sep='\\|\\^\\|,',encoding='cp1252',engine='python')\n",
    "        print('The rows and columns in target for:'+ '_{}'.format(str(data)), df.shape)\n",
    "\n",
    "        \n",
    "# df=pd.read_csv('c:/Users/bkarki/Documents/ETL_PIPE_CARET_PIPE/df_tbl_PRLBR.txt',sep='\\|\\^')"
   ]
  },
  {
   "cell_type": "code",
   "execution_count": 637,
   "metadata": {},
   "outputs": [],
   "source": [
    "def compareResult():\n",
    "    testData()\n",
    "    testTgt()"
   ]
  },
  {
   "cell_type": "code",
   "execution_count": 638,
   "metadata": {},
   "outputs": [
    {
     "name": "stdout",
     "output_type": "stream",
     "text": [
      "The rows and columns for source: _tbl_SLPRP - (0, 81)\n",
      "The rows and columns for source: _tbl_ITFMB - (0, 19)\n",
      "The rows and columns for source: _tbl_ITFPD - (0, 32)\n",
      "The rows and columns for source: _tbl_PRLBR - (18, 19)\n",
      "The rows and columns for source: _tbl_ITFNT - (218, 16)\n"
     ]
    },
    {
     "ename": "AttributeError",
     "evalue": "'str' object has no attribute 'shape'",
     "output_type": "error",
     "traceback": [
      "\u001b[1;31m---------------------------------------------------------------------------\u001b[0m",
      "\u001b[1;31mAttributeError\u001b[0m                            Traceback (most recent call last)",
      "\u001b[1;32m<ipython-input-638-c5bbd2e3b302>\u001b[0m in \u001b[0;36m<module>\u001b[1;34m\u001b[0m\n\u001b[1;32m----> 1\u001b[1;33m \u001b[0mcompareResult\u001b[0m\u001b[1;33m(\u001b[0m\u001b[1;33m)\u001b[0m\u001b[1;33m\u001b[0m\u001b[1;33m\u001b[0m\u001b[0m\n\u001b[0m",
      "\u001b[1;32m<ipython-input-637-97eac5114307>\u001b[0m in \u001b[0;36mcompareResult\u001b[1;34m()\u001b[0m\n\u001b[0;32m      1\u001b[0m \u001b[1;32mdef\u001b[0m \u001b[0mcompareResult\u001b[0m\u001b[1;33m(\u001b[0m\u001b[1;33m)\u001b[0m\u001b[1;33m:\u001b[0m\u001b[1;33m\u001b[0m\u001b[1;33m\u001b[0m\u001b[0m\n\u001b[0;32m      2\u001b[0m     \u001b[0mtestData\u001b[0m\u001b[1;33m(\u001b[0m\u001b[1;33m)\u001b[0m\u001b[1;33m\u001b[0m\u001b[1;33m\u001b[0m\u001b[0m\n\u001b[1;32m----> 3\u001b[1;33m     \u001b[0mtestTgt\u001b[0m\u001b[1;33m(\u001b[0m\u001b[1;33m)\u001b[0m\u001b[1;33m\u001b[0m\u001b[1;33m\u001b[0m\u001b[0m\n\u001b[0m",
      "\u001b[1;32m<ipython-input-635-6d83853cadbc>\u001b[0m in \u001b[0;36mtestTgt\u001b[1;34m()\u001b[0m\n\u001b[0;32m      8\u001b[0m     \u001b[1;32mfor\u001b[0m \u001b[0mdata\u001b[0m \u001b[1;32min\u001b[0m \u001b[0mnew_arr\u001b[0m\u001b[1;33m:\u001b[0m\u001b[1;33m\u001b[0m\u001b[1;33m\u001b[0m\u001b[0m\n\u001b[0;32m      9\u001b[0m         \u001b[0mdf\u001b[0m\u001b[1;33m=\u001b[0m\u001b[0mpd\u001b[0m\u001b[1;33m.\u001b[0m\u001b[0mread_csv\u001b[0m\u001b[1;33m(\u001b[0m\u001b[1;34m'c:/Users/bkarki/Documents/ETL_PIPE_CARET_PIPE/'\u001b[0m\u001b[1;33m+\u001b[0m\u001b[0mdata\u001b[0m\u001b[1;33m,\u001b[0m \u001b[0msep\u001b[0m\u001b[1;33m=\u001b[0m\u001b[1;34m'\\|\\^\\|,'\u001b[0m\u001b[1;33m,\u001b[0m\u001b[0mencoding\u001b[0m\u001b[1;33m=\u001b[0m\u001b[1;34m'cp1252'\u001b[0m\u001b[1;33m,\u001b[0m\u001b[0mengine\u001b[0m\u001b[1;33m=\u001b[0m\u001b[1;34m'python'\u001b[0m\u001b[1;33m)\u001b[0m\u001b[1;33m\u001b[0m\u001b[1;33m\u001b[0m\u001b[0m\n\u001b[1;32m---> 10\u001b[1;33m         \u001b[0mprint\u001b[0m\u001b[1;33m(\u001b[0m\u001b[1;34m'The rows and columns in target for:'\u001b[0m\u001b[1;33m+\u001b[0m \u001b[1;34m'_{}'\u001b[0m\u001b[1;33m.\u001b[0m\u001b[0mformat\u001b[0m\u001b[1;33m(\u001b[0m\u001b[0mstr\u001b[0m\u001b[1;33m(\u001b[0m\u001b[0mdata\u001b[0m\u001b[1;33m)\u001b[0m\u001b[1;33m)\u001b[0m\u001b[1;33m,\u001b[0m \u001b[0mdata\u001b[0m\u001b[1;33m.\u001b[0m\u001b[0mshape\u001b[0m\u001b[1;33m)\u001b[0m\u001b[1;33m\u001b[0m\u001b[1;33m\u001b[0m\u001b[0m\n\u001b[0m\u001b[0;32m     11\u001b[0m \u001b[1;33m\u001b[0m\u001b[0m\n\u001b[0;32m     12\u001b[0m \u001b[1;33m\u001b[0m\u001b[0m\n",
      "\u001b[1;31mAttributeError\u001b[0m: 'str' object has no attribute 'shape'"
     ]
    }
   ],
   "source": [
    "compareResult()"
   ]
  },
  {
   "cell_type": "code",
   "execution_count": 591,
   "metadata": {},
   "outputs": [
    {
     "data": {
      "text/html": [
       "<div>\n",
       "<style scoped>\n",
       "    .dataframe tbody tr th:only-of-type {\n",
       "        vertical-align: middle;\n",
       "    }\n",
       "\n",
       "    .dataframe tbody tr th {\n",
       "        vertical-align: top;\n",
       "    }\n",
       "\n",
       "    .dataframe thead th {\n",
       "        text-align: right;\n",
       "    }\n",
       "</style>\n",
       "<table border=\"1\" class=\"dataframe\">\n",
       "  <thead>\n",
       "    <tr style=\"text-align: right;\">\n",
       "      <th></th>\n",
       "      <th>0</th>\n",
       "      <th>1</th>\n",
       "      <th>2</th>\n",
       "      <th>3</th>\n",
       "      <th>4</th>\n",
       "      <th>5</th>\n",
       "      <th>6</th>\n",
       "      <th>7</th>\n",
       "      <th>8</th>\n",
       "      <th>9</th>\n",
       "      <th>10</th>\n",
       "      <th>11</th>\n",
       "      <th>12</th>\n",
       "      <th>13</th>\n",
       "      <th>14</th>\n",
       "      <th>15</th>\n",
       "    </tr>\n",
       "  </thead>\n",
       "  <tbody>\n",
       "    <tr>\n",
       "      <th>0</th>\n",
       "      <td>FNTCOD</td>\n",
       "      <td>FNTDSC</td>\n",
       "      <td>FNTDSC2</td>\n",
       "      <td>XXDATE</td>\n",
       "      <td>XXDATE_DT</td>\n",
       "      <td>XXTIMESTAMP</td>\n",
       "      <td>XXTIME</td>\n",
       "      <td>XXTIME_TM</td>\n",
       "      <td>XXUSER</td>\n",
       "      <td>XXFUNC</td>\n",
       "      <td>UPDATE_IDENT</td>\n",
       "      <td>InsertDateTime</td>\n",
       "      <td>InsertUserID</td>\n",
       "      <td>LastChangeDateTime</td>\n",
       "      <td>LastChangeUserID</td>\n",
       "      <td>RecordChecksum</td>\n",
       "    </tr>\n",
       "    <tr>\n",
       "      <th>1</th>\n",
       "      <td>AE              Today</td>\n",
       "      <td>I aerated your lawn. Core aeration will allev...</td>\n",
       "      <td>None</td>\n",
       "      <td>None</td>\n",
       "      <td>None</td>\n",
       "      <td>None</td>\n",
       "      <td>None</td>\n",
       "      <td>None</td>\n",
       "      <td>None</td>\n",
       "      <td>None</td>\n",
       "      <td>None</td>\n",
       "      <td>None</td>\n",
       "      <td>None</td>\n",
       "      <td>None</td>\n",
       "      <td>None</td>\n",
       "      <td>None</td>\n",
       "    </tr>\n",
       "    <tr>\n",
       "      <th>2</th>\n",
       "      <td>AE+SEED         Today</td>\n",
       "      <td>I aerated your lawn and also overseeded it. A...</td>\n",
       "      <td>reduce soil compaction and thatch build up.  ...</td>\n",
       "      <td>None</td>\n",
       "      <td>None</td>\n",
       "      <td>None</td>\n",
       "      <td>None</td>\n",
       "      <td>None</td>\n",
       "      <td>None</td>\n",
       "      <td>None</td>\n",
       "      <td>None</td>\n",
       "      <td>None</td>\n",
       "      <td>None</td>\n",
       "      <td>None</td>\n",
       "      <td>None</td>\n",
       "      <td>None</td>\n",
       "    </tr>\n",
       "    <tr>\n",
       "      <th>3</th>\n",
       "      <td>BWC             Today</td>\n",
       "      <td>I treated for broadleaf weeds in your lawn.  ...</td>\n",
       "      <td>None</td>\n",
       "      <td>None</td>\n",
       "      <td>None</td>\n",
       "      <td>None</td>\n",
       "      <td>None</td>\n",
       "      <td>None</td>\n",
       "      <td>None</td>\n",
       "      <td>None</td>\n",
       "      <td>None</td>\n",
       "      <td>None</td>\n",
       "      <td>None</td>\n",
       "      <td>None</td>\n",
       "      <td>None</td>\n",
       "      <td>None</td>\n",
       "    </tr>\n",
       "    <tr>\n",
       "      <th>4</th>\n",
       "      <td>BWC+GWC         Today I treated for broadleaf ...</td>\n",
       "      <td>None</td>\n",
       "      <td>None</td>\n",
       "      <td>None</td>\n",
       "      <td>None</td>\n",
       "      <td>None</td>\n",
       "      <td>None</td>\n",
       "      <td>None</td>\n",
       "      <td>None</td>\n",
       "      <td>None</td>\n",
       "      <td>None</td>\n",
       "      <td>None</td>\n",
       "      <td>None</td>\n",
       "      <td>None</td>\n",
       "      <td>None</td>\n",
       "      <td>None</td>\n",
       "    </tr>\n",
       "  </tbody>\n",
       "</table>\n",
       "</div>"
      ],
      "text/plain": [
       "                                                  0   \\\n",
       "0                                             FNTCOD   \n",
       "1                              AE              Today   \n",
       "2                              AE+SEED         Today   \n",
       "3                              BWC             Today   \n",
       "4  BWC+GWC         Today I treated for broadleaf ...   \n",
       "\n",
       "                                                  1   \\\n",
       "0                                             FNTDSC   \n",
       "1   I aerated your lawn. Core aeration will allev...   \n",
       "2   I aerated your lawn and also overseeded it. A...   \n",
       "3   I treated for broadleaf weeds in your lawn.  ...   \n",
       "4                                               None   \n",
       "\n",
       "                                                  2        3           4   \\\n",
       "0                                            FNTDSC2   XXDATE   XXDATE_DT   \n",
       "1                                               None     None        None   \n",
       "2   reduce soil compaction and thatch build up.  ...     None        None   \n",
       "3                                               None     None        None   \n",
       "4                                               None     None        None   \n",
       "\n",
       "             5        6           7        8        9              10  \\\n",
       "0   XXTIMESTAMP   XXTIME   XXTIME_TM   XXUSER   XXFUNC   UPDATE_IDENT   \n",
       "1          None     None        None     None     None           None   \n",
       "2          None     None        None     None     None           None   \n",
       "3          None     None        None     None     None           None   \n",
       "4          None     None        None     None     None           None   \n",
       "\n",
       "                11             12                   13                 14  \\\n",
       "0   InsertDateTime   InsertUserID   LastChangeDateTime   LastChangeUserID   \n",
       "1             None           None                 None               None   \n",
       "2             None           None                 None               None   \n",
       "3             None           None                 None               None   \n",
       "4             None           None                 None               None   \n",
       "\n",
       "                15  \n",
       "0   RecordChecksum  \n",
       "1             None  \n",
       "2             None  \n",
       "3             None  \n",
       "4             None  "
      ]
     },
     "execution_count": 591,
     "metadata": {},
     "output_type": "execute_result"
    }
   ],
   "source": [
    "# arr=[]\n",
    "# arr = os.listdir('c:/Users/bkarki/Documents/ETL_PIPE_CARET_PIPE/')\n",
    "df1=pd.read_csv('c:/Users/bkarki/Documents/ETL_PIPE_CARET_PIPE/df.txt',error_bad_lines=False,header=None,engine='python')\n",
    "df1.head()\n",
    "# for data in arr:\n",
    "#     print(data)\n",
    "#     pd.read_csv(data, header=None, sep='\\|\\^|', engine='python')"
   ]
  },
  {
   "cell_type": "code",
   "execution_count": 631,
   "metadata": {},
   "outputs": [],
   "source": [
    "def testData():\n",
    "    for data in final_tbl:\n",
    "        query_tbl = \"SELECT * FROM\"+' '+str(data)\n",
    "        df_sql=pd.read_sql(query_tbl, cnxn)\n",
    "        print(\"The rows and columns for source: \"+ '_{}'.format(str(data)) +' -', df_sql.shape)\n",
    "   \n",
    "        \n",
    "    \n",
    "    "
   ]
  },
  {
   "cell_type": "code",
   "execution_count": 632,
   "metadata": {},
   "outputs": [
    {
     "name": "stdout",
     "output_type": "stream",
     "text": [
      "The rows and columns for source: _tbl_SLPRP - (0, 81)\n",
      "The rows and columns for source: _tbl_ITFMB - (0, 19)\n",
      "The rows and columns for source: _tbl_ITFPD - (0, 32)\n",
      "The rows and columns for source: _tbl_PRLBR - (18, 19)\n",
      "The rows and columns for source: _tbl_ITFNT - (218, 16)\n"
     ]
    }
   ],
   "source": [
    "testData()"
   ]
  },
  {
   "cell_type": "code",
   "execution_count": 552,
   "metadata": {},
   "outputs": [
    {
     "data": {
      "text/plain": [
       "(18, 19)"
      ]
     },
     "execution_count": 552,
     "metadata": {},
     "output_type": "execute_result"
    }
   ],
   "source": [
    "df1=pd.read_csv('c:/Users/bkarki/Documents/ETL_PIPE_CARET_PIPE/df_tbl_PRLBR.txt', sep='\\|\\^\\|',engine='python')\n",
    "df1.shape\n",
    "    "
   ]
  },
  {
   "cell_type": "code",
   "execution_count": 492,
   "metadata": {},
   "outputs": [],
   "source": [
    "# import os\n",
    "# def transformToPipeCaretPipe():\n",
    "#     arr = os.listdir('c:/Users/bkarki/Documents/ETL_PIPE_CARET_PIPE/')\n",
    "#     for data in arr:\n",
    "#         df=pd.read_csv(data,header=None)\n",
    "#         np.savetxt('_{}'.format(str(data)), df, delimiter = \"|^|\",fmt=\"%s\")\n",
    "\n",
    "# # df1=pd.read_csv('c:/Users/bkarki/Documents/csvfile.txt',header=None)\n",
    "# # np.savetxt('csvfile.txt', df1, delimiter = \"|^|\",fmt=\"%s\")"
   ]
  },
  {
   "cell_type": "code",
   "execution_count": 494,
   "metadata": {},
   "outputs": [],
   "source": [
    "# transformToPipeCaretPipe()"
   ]
  },
  {
   "cell_type": "code",
   "execution_count": 150,
   "metadata": {},
   "outputs": [],
   "source": [
    "# cols=[]\n",
    "# for col in df.columns: \n",
    "#     cols.append(col)\n",
    "# clean_columns=', '.join(cols)"
   ]
  },
  {
   "cell_type": "code",
   "execution_count": 151,
   "metadata": {},
   "outputs": [],
   "source": [
    "\n",
    "# np.savetxt('csvfile.txt', dd, delimiter = \",\", header=clean_columns,fmt=\"%s\",comments='')\n",
    "# df1=pd.read_csv('c:/Users/bkarki/Documents/csvfile.txt',header=None)\n",
    "# np.savetxt('csvfile.txt', df1, delimiter = \"|^|\",fmt=\"%s\")"
   ]
  }
 ],
 "metadata": {
  "kernelspec": {
   "display_name": "Python 3",
   "language": "python",
   "name": "python3"
  },
  "language_info": {
   "codemirror_mode": {
    "name": "ipython",
    "version": 3
   },
   "file_extension": ".py",
   "mimetype": "text/x-python",
   "name": "python",
   "nbconvert_exporter": "python",
   "pygments_lexer": "ipython3",
   "version": "3.8.3"
  }
 },
 "nbformat": 4,
 "nbformat_minor": 4
}
